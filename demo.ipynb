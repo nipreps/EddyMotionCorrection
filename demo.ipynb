{
 "cells": [
  {
   "cell_type": "code",
   "execution_count": 9,
   "metadata": {
    "pycharm": {
     "name": "#%% Imports\n"
    }
   },
   "outputs": [],
   "source": [
    "from emc.workflows.correct import init_emc_wf\n",
    "from pathlib import Path\n",
    "import nipype.pipeline.engine as pe\n",
    "from nipype.interfaces import utility as niu\n",
    "from dipy.data import get_fnames\n",
    "from dmriprep.workflows.dwi.util import init_dwi_reference_wf\n",
    "from dmriprep.interfaces.vectors import CheckGradientTable\n",
    "\n",
    "#fdata, fbvals, fbvecs = get_fnames(\"sherbrooke_3shell\")\n",
    "#fdata, fbvals, fbvecs = get_fnames(\"stanford_hardi\")\n",
    "fdata = '/Users/derekpisner/Downloads/ds000206/sub-THP0001/ses-THP0001CCF1/dwi/sub-THP0001_ses-THP0001CCF1_acq-GD31_run-01_dwi.nii.gz'\n",
    "fbvals = '/Users/derekpisner/Downloads/ds000206/sub-THP0001/ses-THP0001CCF1/dwi/sub-THP0001_ses-THP0001CCF1_acq-GD31_run-01_dwi.bval'\n",
    "fbvecs = '/Users/derekpisner/Downloads/ds000206/sub-THP0001/ses-THP0001CCF1/dwi/sub-THP0001_ses-THP0001CCF1_acq-GD31_run-01_dwi.bvec'"
   ]
  },
  {
   "cell_type": "code",
   "execution_count": 10,
   "metadata": {
    "pycharm": {
     "name": "#%% Create a workflow\n"
    }
   },
   "outputs": [],
   "source": [
    "# Create a workflow that can be added as a node to\n",
    "# `~dmriprep.workflows.dwi.base.init_dwi_preproc_wf` and (for now) envelops\n",
    "# `~dmriprep.workflows.dwi.util.init_dwi_reference_wf`\n",
    "def build_emc_workflow(fdata, fbvals, fbvecs, work_dir='/tmp'):\n",
    "\n",
    "    wf_emc = pe.Workflow(name='emc_correction')\n",
    "\n",
    "    inputnode = pe.Node(niu.IdentityInterface(fields=['dwi_files', 'in_bval',\n",
    "                                                      'in_bvec']),\n",
    "        name='inputnode')\n",
    "\n",
    "    inputnode.inputs.dwi_file = fdata\n",
    "    inputnode.inputs.in_bval = fbvals\n",
    "    inputnode.inputs.in_bvec = fbvecs\n",
    "\n",
    "    emc_wf_node = init_emc_wf('emc_wf')\n",
    "\n",
    "    wf_emc.connect([\n",
    "        (inputnode, emc_wf_node, [('dwi_file', 'meta_inputnode.dwi_file'),\n",
    "                                  ('in_bval', 'meta_inputnode.in_bval'),\n",
    "                                  ('in_bvec', 'meta_inputnode.in_bvec')])\n",
    "    ])\n",
    "\n",
    "    wf_emc.base_dir = work_dir\n",
    "\n",
    "    cfg = dict(execution={'stop_on_first_crash': False,\n",
    "                          'parameterize_dirs': True, 'crashfile_format': 'txt',\n",
    "                          'remove_unnecessary_outputs': False,\n",
    "                          'poll_sleep_duration': 0, 'plugin': 'MultiProc'})\n",
    "    for key in cfg.keys():\n",
    "        for setting, value in cfg[key].items():\n",
    "            wf_emc.config[key][setting] = value\n",
    "\n",
    "    return wf_emc"
   ]
  },
  {
   "cell_type": "code",
   "execution_count": null,
   "metadata": {
    "pycharm": {
     "name": "#%%\n"
    }
   },
   "outputs": [
    {
     "name": "stdout",
     "output_type": "stream",
     "text": [
      "210305-18:22:05,607 nipype.workflow INFO:\n",
      "\t Workflow emc_correction settings: ['check', 'execution', 'logging', 'monitoring']\n",
      "210305-18:22:05,661 nipype.workflow INFO:\n",
      "\t Running in parallel.\n",
      "210305-18:22:05,666 nipype.workflow INFO:\n",
      "\t [MultiProc] Running 0 tasks, and 2 jobs ready. Free memory (GB): 28.80/28.80, Free processors: 12/12.\n",
      "210305-18:22:06,39 nipype.workflow INFO:\n",
      "\t [MultiProc] Running 2 tasks, and 0 jobs ready. Free memory (GB): 28.40/28.80, Free processors: 10/12.\n",
      "                     Currently running:\n",
      "                       * emc_correction.emc_wf.emc_vectors_node\n",
      "                       * emc_correction.emc_wf.patch2self_node\n",
      "210305-18:22:15,323 nipype.workflow INFO:\n",
      "\t [Job 3] Completed (emc_correction.emc_wf.emc_vectors_node).\n",
      "210305-18:22:15,327 nipype.workflow INFO:\n",
      "\t [MultiProc] Running 1 tasks, and 0 jobs ready. Free memory (GB): 28.60/28.80, Free processors: 11/12.\n",
      "                     Currently running:\n",
      "                       * emc_correction.emc_wf.patch2self_node\n"
     ]
    }
   ],
   "source": [
    "wf = build_emc_workflow(fdata, fbvals, fbvecs)\n",
    "res = wf.run(plugin='MultiProc')"
   ]
  },
  {
   "cell_type": "code",
   "execution_count": null,
   "metadata": {
    "pycharm": {
     "name": "#%%\n"
    }
   },
   "outputs": [],
   "source": [
    "list(res.nodes())"
   ]
  },
  {
   "cell_type": "code",
   "execution_count": 30,
   "metadata": {
    "pycharm": {
     "name": "#%%\n"
    }
   },
   "outputs": [
    {
     "data": {
      "text/plain": [
       "[emc_correction.emc_wf.emc_vectors_node,\n",
       " emc_correction.emc_wf.extract_b0_node,\n",
       " emc_correction.emc_wf.split_b0s_node,\n",
       " emc_correction.emc_wf.split_dwis_node,\n",
       " emc_correction.emc_wf.match_transforms_node,\n",
       " emc_correction.emc_wf.b0_based_vector_transforms,\n",
       " emc_correction.emc_wf.b0_based_image_transforms,\n",
       " emc_correction.emc_wf.merge_b0s_node,\n",
       " emc_correction.emc_wf.b0_median,\n",
       " emc_correction.emc_wf.prune_b0s_from_dwis_node,\n",
       " emc_correction.emc_wf.uncorrect_model_images,\n",
       " emc_correction.emc_wf.merge_EMC_corrected_dwis_node,\n",
       " emc_correction.emc_wf.dwi_reference_wf.validate,\n",
       " emc_correction.emc_wf.dwi_reference_wf.extract_b0,\n",
       " emc_correction.emc_wf.dwi_reference_wf.reg_b0,\n",
       " emc_correction.emc_wf.dwi_reference_wf.pre_mask,\n",
       " emc_correction.emc_wf.dwi_reference_wf.rescale_b0,\n",
       " emc_correction.emc_wf.dwi_reference_wf.enhance_and_skullstrip_dwi_wf.n4_correct,\n",
       " emc_correction.emc_wf.dwi_reference_wf.enhance_and_skullstrip_dwi_wf.fixhdr_unifize,\n",
       " emc_correction.emc_wf.dwi_reference_wf.enhance_and_skullstrip_dwi_wf.fixhdr_skullstrip2,\n",
       " emc_correction.emc_wf.dwi_reference_wf.enhance_and_skullstrip_dwi_wf.skullstrip_first_pass,\n",
       " emc_correction.emc_wf.dwi_reference_wf.enhance_and_skullstrip_dwi_wf.skullstrip_first_dilate,\n",
       " emc_correction.emc_wf.dwi_reference_wf.enhance_and_skullstrip_dwi_wf.skullstrip_first_mask,\n",
       " emc_correction.emc_wf.dwi_reference_wf.enhance_and_skullstrip_dwi_wf.unifize,\n",
       " emc_correction.emc_wf.dwi_reference_wf.enhance_and_skullstrip_dwi_wf.skullstrip_second_pass,\n",
       " emc_correction.emc_wf.dwi_reference_wf.enhance_and_skullstrip_dwi_wf.combine_masks,\n",
       " emc_correction.emc_wf.dwi_reference_wf.enhance_and_skullstrip_dwi_wf.apply_mask,\n",
       " emc_correction.emc_wf.dwi_reference_wf.enhance_and_skullstrip_dwi_wf.normalize,\n",
       " emc_correction.emc_wf.b0_emc_wf.iteration_templates,\n",
       " emc_correction.emc_wf.b0_emc_wf.iterative_alignment_000.reg_000,\n",
       " emc_correction.emc_wf.b0_emc_wf.iterative_alignment_000.averaged_images,\n",
       " emc_correction.emc_wf.b0_emc_wf.iterative_alignment_000.transforms_to_list,\n",
       " emc_correction.emc_wf.b0_emc_wf.iterative_alignment_000.avg_affine,\n",
       " emc_correction.emc_wf.b0_emc_wf.iterative_alignment_000.to_list,\n",
       " emc_correction.emc_wf.b0_emc_wf.iterative_alignment_000.invert_average,\n",
       " emc_correction.emc_wf.b0_emc_wf.iterative_alignment_001.reg_001,\n",
       " emc_correction.emc_wf.b0_emc_wf.iterative_alignment_001.averaged_images,\n",
       " emc_correction.emc_wf.b0_emc_wf.iterative_alignment_001.transforms_to_list,\n",
       " emc_correction.emc_wf.b0_emc_wf.iterative_alignment_001.avg_affine,\n",
       " emc_correction.emc_wf.b0_emc_wf.iterative_alignment_001.to_list,\n",
       " emc_correction.emc_wf.b0_emc_wf.iterative_alignment_001.invert_average,\n",
       " emc_correction.emc_wf.b0_emc_wf.iterative_alignment_002.reg_002,\n",
       " emc_correction.emc_wf.b0_emc_wf.iterative_alignment_002.averaged_images,\n",
       " emc_correction.emc_wf.b0_emc_wf.iterative_alignment_002.transforms_to_list,\n",
       " emc_correction.emc_wf.b0_emc_wf.iterative_alignment_002.avg_affine,\n",
       " emc_correction.emc_wf.b0_emc_wf.iterative_alignment_002.to_list,\n",
       " emc_correction.emc_wf.b0_emc_wf.iterative_alignment_002.invert_average,\n",
       " emc_correction.emc_wf.dwi_model_emc_wf.collect_motion_params,\n",
       " emc_correction.emc_wf.dwi_model_emc_wf.summarize_iterations,\n",
       " emc_correction.emc_wf.dwi_model_emc_wf.emc_report,\n",
       " emc_correction.emc_wf.dwi_model_emc_wf.reorder_dwi_xforms,\n",
       " emc_correction.emc_wf.dwi_model_emc_wf.calculate_cnr,\n",
       " emc_correction.emc_wf.dwi_model_emc_wf.initial_model_iteration.predict_dwis,\n",
       " emc_correction.emc_wf.dwi_model_emc_wf.initial_model_iteration.register_to_predicted,\n",
       " emc_correction.emc_wf.dwi_model_emc_wf.initial_model_iteration.calculate_motion,\n",
       " emc_correction.emc_wf.dwi_model_emc_wf.initial_model_iteration.post_vector_transforms,\n",
       " emc_correction.emc_wf.dwi_model_emc_wf.EMC_iteration001.predict_dwis,\n",
       " emc_correction.emc_wf.dwi_model_emc_wf.EMC_iteration001.register_to_predicted,\n",
       " emc_correction.emc_wf.dwi_model_emc_wf.EMC_iteration001.calculate_motion,\n",
       " emc_correction.emc_wf.dwi_model_emc_wf.EMC_iteration001.post_vector_transforms]"
      ]
     },
     "execution_count": 30,
     "metadata": {},
     "output_type": "execute_result"
    }
   ],
   "source": []
  },
  {
   "cell_type": "code",
   "execution_count": null,
   "metadata": {},
   "outputs": [],
   "source": []
  }
 ],
 "metadata": {
  "kernelspec": {
   "display_name": "Python 3",
   "language": "python",
   "name": "python3"
  },
  "language_info": {
   "codemirror_mode": {
    "name": "ipython",
    "version": 3
   },
   "file_extension": ".py",
   "mimetype": "text/x-python",
   "name": "python",
   "nbconvert_exporter": "python",
   "pygments_lexer": "ipython3",
   "version": "3.7.3"
  }
 },
 "nbformat": 4,
 "nbformat_minor": 2
}
